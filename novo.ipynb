{
 "cells": [
  {
   "cell_type": "code",
   "execution_count": 1,
   "metadata": {},
   "outputs": [],
   "source": [
    "from github import Github\n",
    "from token_github import my_token\n",
    "\n",
    "g = Github(my_token)"
   ]
  },
  {
   "cell_type": "code",
   "execution_count": 20,
   "metadata": {},
   "outputs": [],
   "source": [
    "repo = g.get_repo(\"freeCodeCamp/freeCodeCamp\")\n",
    "open_issues = repo.get_issues(state='all', sort='comment')\n",
    "\n",
    "lista = []\n",
    "\n",
    "for issue in open_issues:\n",
    "    lista.append(issue)"
   ]
  },
  {
   "cell_type": "code",
   "execution_count": 21,
   "metadata": {},
   "outputs": [
    {
     "data": {
      "text/plain": [
       "[Issue(title=\"Request to add Flex and Spacer components to UI Components Library #44668\", number=47231),\n",
       " Issue(title=\"Delete security.md\", number=47230),\n",
       " Issue(title=\"fix(curriculum) more comprehensive test for 24 game\", number=47229),\n",
       " Issue(title=\"chore(i18n,learn): processed translations\", number=47228),\n",
       " Issue(title=\"chore(i18n,client): processed translations\", number=47227),\n",
       " Issue(title=\"fix(curriculum): add missing instructions for lang attribute\", number=47226),\n",
       " Issue(title=\" Feature Request for certificate - Add QR Code linked to Certificate on FCC Website on Certificate\", number=47225),\n",
       " Issue(title=\"fix(curriculum): PhotoGallery Step 5\", number=47224),\n",
       " Issue(title=\"Responsive Web Design - Learn CSS Flexbox - Step 5\", number=47223),\n",
       " Issue(title=\"fix(curriculum): Made output for sample code in snippet clearer - Multidimensional Array Access\", number=47222)]"
      ]
     },
     "execution_count": 21,
     "metadata": {},
     "output_type": "execute_result"
    }
   ],
   "source": [
    "lista[:10]"
   ]
  },
  {
   "cell_type": "code",
   "execution_count": 18,
   "metadata": {},
   "outputs": [
    {
     "data": {
      "text/plain": [
       "<github.PaginatedList.PaginatedList at 0x7fde6d793ca0>"
      ]
     },
     "execution_count": 18,
     "metadata": {},
     "output_type": "execute_result"
    }
   ],
   "source": [
    "a = lista[0].get_comments()\n",
    "a"
   ]
  }
 ],
 "metadata": {
  "kernelspec": {
   "display_name": "Python 3.8.10 64-bit",
   "language": "python",
   "name": "python3"
  },
  "language_info": {
   "codemirror_mode": {
    "name": "ipython",
    "version": 3
   },
   "file_extension": ".py",
   "mimetype": "text/x-python",
   "name": "python",
   "nbconvert_exporter": "python",
   "pygments_lexer": "ipython3",
   "version": "3.8.10"
  },
  "orig_nbformat": 4,
  "vscode": {
   "interpreter": {
    "hash": "916dbcbb3f70747c44a77c7bcd40155683ae19c65e1c03b4aa3499c5328201f1"
   }
  }
 },
 "nbformat": 4,
 "nbformat_minor": 2
}
